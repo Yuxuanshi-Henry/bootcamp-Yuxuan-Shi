{
 "cells": [
  {
   "cell_type": "markdown",
   "metadata": {},
   "source": [
    "# Stage 09 — Homework Starter Notebook\n",
    "\n",
    "In the lecture, we learned how to create engineered features. Now it’s your turn to apply those ideas to your own project data."
   ]
  },
  {
   "cell_type": "code",
   "execution_count": 12,
   "metadata": {},
   "outputs": [
    {
     "name": "stdout",
     "output_type": "stream",
     "text": [
      "<class 'pandas.core.frame.DataFrame'>\n",
      "RangeIndex: 1000 entries, 0 to 999\n",
      "Data columns (total 21 columns):\n",
      " #   Column                   Non-Null Count  Dtype \n",
      "---  ------                   --------------  ----- \n",
      " 0   checking_account_status  1000 non-null   object\n",
      " 1   duration                 1000 non-null   int64 \n",
      " 2   credit_history           1000 non-null   object\n",
      " 3   purpose                  1000 non-null   object\n",
      " 4   credit_amount            1000 non-null   int64 \n",
      " 5   savings_account          1000 non-null   object\n",
      " 6   employment_since         1000 non-null   object\n",
      " 7   installment_rate         1000 non-null   int64 \n",
      " 8   personal_status          1000 non-null   object\n",
      " 9   other_debtors            1000 non-null   object\n",
      " 10  residence_since          1000 non-null   int64 \n",
      " 11  property                 1000 non-null   object\n",
      " 12  age                      1000 non-null   int64 \n",
      " 13  other_installment_plans  1000 non-null   object\n",
      " 14  housing                  1000 non-null   object\n",
      " 15  existing_credits         1000 non-null   int64 \n",
      " 16  job                      1000 non-null   object\n",
      " 17  num_dependents           1000 non-null   int64 \n",
      " 18  telephone                1000 non-null   object\n",
      " 19  foreign_worker           1000 non-null   object\n",
      " 20  class                    1000 non-null   int64 \n",
      "dtypes: int64(8), object(13)\n",
      "memory usage: 164.2+ KB\n",
      "None\n",
      "          duration  credit_amount  installment_rate  residence_since  \\\n",
      "count  1000.000000    1000.000000       1000.000000      1000.000000   \n",
      "mean     20.903000    3271.258000          2.973000         2.845000   \n",
      "std      12.058814    2822.736876          1.118715         1.103718   \n",
      "min       4.000000     250.000000          1.000000         1.000000   \n",
      "25%      12.000000    1365.500000          2.000000         2.000000   \n",
      "50%      18.000000    2319.500000          3.000000         3.000000   \n",
      "75%      24.000000    3972.250000          4.000000         4.000000   \n",
      "max      72.000000   18424.000000          4.000000         4.000000   \n",
      "\n",
      "               age  existing_credits  num_dependents        class  \n",
      "count  1000.000000       1000.000000     1000.000000  1000.000000  \n",
      "mean     35.546000          1.407000        1.155000     1.300000  \n",
      "std      11.375469          0.577654        0.362086     0.458487  \n",
      "min      19.000000          1.000000        1.000000     1.000000  \n",
      "25%      27.000000          1.000000        1.000000     1.000000  \n",
      "50%      33.000000          1.000000        1.000000     1.000000  \n",
      "75%      42.000000          2.000000        1.000000     2.000000  \n",
      "max      75.000000          4.000000        2.000000     2.000000  \n"
     ]
    },
    {
     "data": {
      "text/html": [
       "<div>\n",
       "<style scoped>\n",
       "    .dataframe tbody tr th:only-of-type {\n",
       "        vertical-align: middle;\n",
       "    }\n",
       "\n",
       "    .dataframe tbody tr th {\n",
       "        vertical-align: top;\n",
       "    }\n",
       "\n",
       "    .dataframe thead th {\n",
       "        text-align: right;\n",
       "    }\n",
       "</style>\n",
       "<table border=\"1\" class=\"dataframe\">\n",
       "  <thead>\n",
       "    <tr style=\"text-align: right;\">\n",
       "      <th></th>\n",
       "      <th>checking_account_status</th>\n",
       "      <th>duration</th>\n",
       "      <th>credit_history</th>\n",
       "      <th>purpose</th>\n",
       "      <th>credit_amount</th>\n",
       "      <th>savings_account</th>\n",
       "      <th>employment_since</th>\n",
       "      <th>installment_rate</th>\n",
       "      <th>personal_status</th>\n",
       "      <th>other_debtors</th>\n",
       "      <th>...</th>\n",
       "      <th>property</th>\n",
       "      <th>age</th>\n",
       "      <th>other_installment_plans</th>\n",
       "      <th>housing</th>\n",
       "      <th>existing_credits</th>\n",
       "      <th>job</th>\n",
       "      <th>num_dependents</th>\n",
       "      <th>telephone</th>\n",
       "      <th>foreign_worker</th>\n",
       "      <th>class</th>\n",
       "    </tr>\n",
       "  </thead>\n",
       "  <tbody>\n",
       "    <tr>\n",
       "      <th>0</th>\n",
       "      <td>A11</td>\n",
       "      <td>6</td>\n",
       "      <td>A34</td>\n",
       "      <td>A43</td>\n",
       "      <td>1169</td>\n",
       "      <td>A65</td>\n",
       "      <td>A75</td>\n",
       "      <td>4</td>\n",
       "      <td>A93</td>\n",
       "      <td>A101</td>\n",
       "      <td>...</td>\n",
       "      <td>A121</td>\n",
       "      <td>67</td>\n",
       "      <td>A143</td>\n",
       "      <td>A152</td>\n",
       "      <td>2</td>\n",
       "      <td>A173</td>\n",
       "      <td>1</td>\n",
       "      <td>A192</td>\n",
       "      <td>A201</td>\n",
       "      <td>1</td>\n",
       "    </tr>\n",
       "    <tr>\n",
       "      <th>1</th>\n",
       "      <td>A12</td>\n",
       "      <td>48</td>\n",
       "      <td>A32</td>\n",
       "      <td>A43</td>\n",
       "      <td>5951</td>\n",
       "      <td>A61</td>\n",
       "      <td>A73</td>\n",
       "      <td>2</td>\n",
       "      <td>A92</td>\n",
       "      <td>A101</td>\n",
       "      <td>...</td>\n",
       "      <td>A121</td>\n",
       "      <td>22</td>\n",
       "      <td>A143</td>\n",
       "      <td>A152</td>\n",
       "      <td>1</td>\n",
       "      <td>A173</td>\n",
       "      <td>1</td>\n",
       "      <td>A191</td>\n",
       "      <td>A201</td>\n",
       "      <td>2</td>\n",
       "    </tr>\n",
       "    <tr>\n",
       "      <th>2</th>\n",
       "      <td>A14</td>\n",
       "      <td>12</td>\n",
       "      <td>A34</td>\n",
       "      <td>A46</td>\n",
       "      <td>2096</td>\n",
       "      <td>A61</td>\n",
       "      <td>A74</td>\n",
       "      <td>2</td>\n",
       "      <td>A93</td>\n",
       "      <td>A101</td>\n",
       "      <td>...</td>\n",
       "      <td>A121</td>\n",
       "      <td>49</td>\n",
       "      <td>A143</td>\n",
       "      <td>A152</td>\n",
       "      <td>1</td>\n",
       "      <td>A172</td>\n",
       "      <td>2</td>\n",
       "      <td>A191</td>\n",
       "      <td>A201</td>\n",
       "      <td>1</td>\n",
       "    </tr>\n",
       "    <tr>\n",
       "      <th>3</th>\n",
       "      <td>A11</td>\n",
       "      <td>42</td>\n",
       "      <td>A32</td>\n",
       "      <td>A42</td>\n",
       "      <td>7882</td>\n",
       "      <td>A61</td>\n",
       "      <td>A74</td>\n",
       "      <td>2</td>\n",
       "      <td>A93</td>\n",
       "      <td>A103</td>\n",
       "      <td>...</td>\n",
       "      <td>A122</td>\n",
       "      <td>45</td>\n",
       "      <td>A143</td>\n",
       "      <td>A153</td>\n",
       "      <td>1</td>\n",
       "      <td>A173</td>\n",
       "      <td>2</td>\n",
       "      <td>A191</td>\n",
       "      <td>A201</td>\n",
       "      <td>1</td>\n",
       "    </tr>\n",
       "    <tr>\n",
       "      <th>4</th>\n",
       "      <td>A11</td>\n",
       "      <td>24</td>\n",
       "      <td>A33</td>\n",
       "      <td>A40</td>\n",
       "      <td>4870</td>\n",
       "      <td>A61</td>\n",
       "      <td>A73</td>\n",
       "      <td>3</td>\n",
       "      <td>A93</td>\n",
       "      <td>A101</td>\n",
       "      <td>...</td>\n",
       "      <td>A124</td>\n",
       "      <td>53</td>\n",
       "      <td>A143</td>\n",
       "      <td>A153</td>\n",
       "      <td>2</td>\n",
       "      <td>A173</td>\n",
       "      <td>2</td>\n",
       "      <td>A191</td>\n",
       "      <td>A201</td>\n",
       "      <td>2</td>\n",
       "    </tr>\n",
       "  </tbody>\n",
       "</table>\n",
       "<p>5 rows × 21 columns</p>\n",
       "</div>"
      ],
      "text/plain": [
       "  checking_account_status  duration credit_history purpose  credit_amount  \\\n",
       "0                     A11         6            A34     A43           1169   \n",
       "1                     A12        48            A32     A43           5951   \n",
       "2                     A14        12            A34     A46           2096   \n",
       "3                     A11        42            A32     A42           7882   \n",
       "4                     A11        24            A33     A40           4870   \n",
       "\n",
       "  savings_account employment_since  installment_rate personal_status  \\\n",
       "0             A65              A75                 4             A93   \n",
       "1             A61              A73                 2             A92   \n",
       "2             A61              A74                 2             A93   \n",
       "3             A61              A74                 2             A93   \n",
       "4             A61              A73                 3             A93   \n",
       "\n",
       "  other_debtors  ...  property age  other_installment_plans housing  \\\n",
       "0          A101  ...      A121  67                     A143    A152   \n",
       "1          A101  ...      A121  22                     A143    A152   \n",
       "2          A101  ...      A121  49                     A143    A152   \n",
       "3          A103  ...      A122  45                     A143    A153   \n",
       "4          A101  ...      A124  53                     A143    A153   \n",
       "\n",
       "  existing_credits   job num_dependents  telephone foreign_worker class  \n",
       "0                2  A173              1       A192           A201     1  \n",
       "1                1  A173              1       A191           A201     2  \n",
       "2                1  A172              2       A191           A201     1  \n",
       "3                1  A173              2       A191           A201     1  \n",
       "4                2  A173              2       A191           A201     2  \n",
       "\n",
       "[5 rows x 21 columns]"
      ]
     },
     "execution_count": 12,
     "metadata": {},
     "output_type": "execute_result"
    }
   ],
   "source": [
    "import pandas as pd\n",
    "import numpy as np\n",
    "\n",
    "# Example synthetic data (replace with your project dataset)\n",
    "# np.random.seed(0)\n",
    "# n = 100\n",
    "# df = pd.DataFrame({\n",
    "#     'income': np.random.normal(60000, 15000, n).astype(int),\n",
    "#     'monthly_spend': np.random.normal(2000, 600, n).astype(int),\n",
    "#     'credit_score': np.random.normal(680, 50, n).astype(int)\n",
    "# })\n",
    "# df.head()\n",
    "\n",
    "# Import my own dataset\n",
    "from pathlib import Path\n",
    "path = Path('../../../project/data/raw')\n",
    "data_path = path / \"original.csv\"\n",
    "variables_path = path / \"variable_name.csv\"\n",
    "data = pd.read_csv(data_path)\n",
    "variables = pd.read_csv(variables_path)\n",
    "\n",
    "mapping = dict(zip(variables['Attribute'], variables['Description']))\n",
    "data.rename(columns=mapping, inplace=True)\n",
    "print(data.info())\n",
    "print(data.describe())\n",
    "data.head()"
   ]
  },
  {
   "cell_type": "markdown",
   "metadata": {},
   "source": [
    "## TODO: Implement at least 2 engineered features here"
   ]
  },
  {
   "cell_type": "code",
   "execution_count": 19,
   "id": "9cf87ac8",
   "metadata": {},
   "outputs": [
    {
     "data": {
      "text/html": [
       "<div>\n",
       "<style scoped>\n",
       "    .dataframe tbody tr th:only-of-type {\n",
       "        vertical-align: middle;\n",
       "    }\n",
       "\n",
       "    .dataframe tbody tr th {\n",
       "        vertical-align: top;\n",
       "    }\n",
       "\n",
       "    .dataframe thead th {\n",
       "        text-align: right;\n",
       "    }\n",
       "</style>\n",
       "<table border=\"1\" class=\"dataframe\">\n",
       "  <thead>\n",
       "    <tr style=\"text-align: right;\">\n",
       "      <th></th>\n",
       "      <th>credit_to_income_proxy</th>\n",
       "      <th>young_high_credit</th>\n",
       "    </tr>\n",
       "  </thead>\n",
       "  <tbody>\n",
       "    <tr>\n",
       "      <th>0</th>\n",
       "      <td>1.938640</td>\n",
       "      <td>0</td>\n",
       "    </tr>\n",
       "    <tr>\n",
       "      <th>1</th>\n",
       "      <td>77.285714</td>\n",
       "      <td>1</td>\n",
       "    </tr>\n",
       "    <tr>\n",
       "      <th>2</th>\n",
       "      <td>6.580848</td>\n",
       "      <td>0</td>\n",
       "    </tr>\n",
       "    <tr>\n",
       "      <th>3</th>\n",
       "      <td>26.947009</td>\n",
       "      <td>0</td>\n",
       "    </tr>\n",
       "    <tr>\n",
       "      <th>4</th>\n",
       "      <td>26.253369</td>\n",
       "      <td>0</td>\n",
       "    </tr>\n",
       "  </tbody>\n",
       "</table>\n",
       "</div>"
      ],
      "text/plain": [
       "   credit_to_income_proxy  young_high_credit\n",
       "0                1.938640                  0\n",
       "1               77.285714                  1\n",
       "2                6.580848                  0\n",
       "3               26.947009                  0\n",
       "4               26.253369                  0"
      ]
     },
     "execution_count": 19,
     "metadata": {},
     "output_type": "execute_result"
    }
   ],
   "source": [
    "# Feature 1: Credit amount to income ratio (proxy: credit_amount / (age * employment length))\n",
    "# Since we don't have income, we use age * employment_since as a rough proxy for earning power\n",
    "# First, map employment_since to numeric (A71: unemployed, A72: <1yr, A73: 1-4yr, A74: 4-7yr, A75: >=7yr)\n",
    "employment_map = {'A71': 0, 'A72': 0.5, 'A73': 2.5, 'A74': 5.5, 'A75': 8}\n",
    "data['employment_years'] = data['employment_since'].map(employment_map)\n",
    "data['credit_to_income_proxy'] = data['credit_amount'] / (data['age'] * (data['employment_years'] + 1))\n",
    "\n",
    "# Feature 2: Young with high credit (binary: age < 25 and credit_amount > median)\n",
    "data['young_high_credit'] = ((data['age'] < 25) & (data['credit_amount'] > data['credit_amount'].median())).astype(int)\n",
    "\n",
    "data[['credit_to_income_proxy', 'young_high_credit']].head()"
   ]
  },
  {
   "cell_type": "markdown",
   "metadata": {},
   "source": [
    "### Rationale for Feature 1\n",
    "Explain why this feature may help a model. Reference your EDA."
   ]
  },
  {
   "cell_type": "code",
   "execution_count": null,
   "id": "6ca805b7",
   "metadata": {},
   "outputs": [
    {
     "data": {
      "image/png": "[encoded data removed]",
      "text/plain": [
       "<Figure size 800x400 with 1 Axes>"
      ]
     },
     "metadata": {},
     "output_type": "display_data"
    },
    {
     "data": {
      "image/png": "[encoded data removed]",
      "text/plain": [
       "<Figure size 800x400 with 1 Axes>"
      ]
     },
     "metadata": {},
     "output_type": "display_data"
    },
    {
     "name": "stdout",
     "output_type": "stream",
     "text": [
      "mean of credit_to_income_proxy by default class:\n",
      "class\n",
      "1    28.866981\n",
      "2    46.246382\n",
      "Name: credit_to_income_proxy, dtype: float64\n"
     ]
    }
   ],
   "source": [
    "# EDA\n",
    "import matplotlib.pyplot as plt\n",
    "import seaborn as sns\n",
    "\n",
    "plt.figure(figsize=(8, 4))\n",
    "sns.histplot(data['credit_to_income_proxy'], bins=30, kde=True)\n",
    "plt.title('credit to income proxy')\n",
    "plt.xlabel('credit_to_income_proxy')\n",
    "plt.ylabel('Count')\n",
    "plt.show()\n",
    "\n",
    "# Segregate by default \n",
    "plt.figure(figsize=(8, 4))\n",
    "sns.boxplot(x='class', y='credit_to_income_proxy', data=data)\n",
    "plt.title('credit to income proxy by default class')\n",
    "plt.xlabel('class (1=good, 2=bad)')\n",
    "plt.ylabel('credit_to_income_proxy')\n",
    "plt.show()\n",
    "\n",
    "# Calculate mean of different default group\n",
    "group_means = data.groupby('class')['credit_to_income_proxy'].mean()\n",
    "print(\"mean of credit_to_income_proxy by default class:\")\n",
    "print(group_means)"
   ]
  },
  {
   "cell_type": "markdown",
   "id": "d5734249",
   "metadata": {
    "vscode": {
     "languageId": "ini"
    }
   },
   "source": [
    "Conclusion: The EDA supports the hypothesis. Customers with a higher credit_to_income_proxy have a higher risk of default, making this feature valuable for risk prediction.\n"
   ]
  },
  {
   "cell_type": "markdown",
   "metadata": {},
   "source": [
    "### Rationale for Feature 2\n",
    "Explain why this feature may help a model. Reference your EDA."
   ]
  },
  {
   "cell_type": "code",
   "execution_count": 18,
   "id": "0c8bdb13",
   "metadata": {},
   "outputs": [
    {
     "data": {
      "image/png": "[encoded data removed]",
      "text/plain": [
       "<Figure size 600x300 with 1 Axes>"
      ]
     },
     "metadata": {},
     "output_type": "display_data"
    },
    {
     "name": "stdout",
     "output_type": "stream",
     "text": [
      "Default rate by young_high_credit group:\n",
      "class                     1         2\n",
      "young_high_credit                    \n",
      "0                  0.708955  0.291045\n",
      "1                  0.564516  0.435484\n"
     ]
    }
   ],
   "source": [
    "# EDA for Feature 2: young_high_credit\n",
    "\n",
    "plt.figure(figsize=(6, 3))\n",
    "sns.countplot(x='young_high_credit', hue='class', data=data)\n",
    "plt.title('Young with High Credit vs Default Class')\n",
    "plt.xlabel('young_high_credit (1=young & high credit, 0=otherwise)')\n",
    "plt.ylabel('Count')\n",
    "plt.legend(title='class (1=good, 2=bad)')\n",
    "plt.show()\n",
    "\n",
    "# Calculate default rate for young_high_credit groups\n",
    "default_rate = data.groupby('young_high_credit')['class'].value_counts(normalize=True).unstack()\n",
    "print(\"Default rate by young_high_credit group:\")\n",
    "print(default_rate)"
   ]
  },
  {
   "cell_type": "markdown",
   "id": "2faf5b22",
   "metadata": {
    "vscode": {
     "languageId": "ini"
    }
   },
   "source": [
    "* Conclusion: The hypothesis is supported. The default rate (class=2) for the group with young_high_credit=1 is significantly higher than for other groups, indicating that young customers with high credit amounts are at greater risk.\n",
    "* Significance: This variable helps the model identify high-risk young customers and improves risk prediction capability."
   ]
  }
 ],
 "metadata": {
  "kernelspec": {
   "display_name": "bootcamp_env",
   "language": "python",
   "name": "python3"
  },
  "language_info": {
   "codemirror_mode": {
    "name": "ipython",
    "version": 3
   },
   "file_extension": ".py",
   "mimetype": "text/x-python",
   "name": "python",
   "nbconvert_exporter": "python",
   "pygments_lexer": "ipython3",
   "version": "3.10.18"
  }
 },
 "nbformat": 4,
 "nbformat_minor": 5
}
