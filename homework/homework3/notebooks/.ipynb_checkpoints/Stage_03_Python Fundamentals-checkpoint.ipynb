{
 "cells": [
  {
   "cell_type": "code",
   "execution_count": 2,
   "id": "9dc801a3",
   "metadata": {},
   "outputs": [
    {
     "name": "stdout",
     "output_type": "stream",
     "text": [
      "square: [ 1  4  9 16 25]\n",
      "log: [0.         0.69314718 1.09861229 1.38629436 1.60943791]\n"
     ]
    }
   ],
   "source": [
    "import numpy as np\n",
    "\n",
    "arr = np.array([1, 2, 3, 4, 5])\n",
    "\n",
    "print(\"square:\", arr ** 2)\n",
    "print(\"log:\", np.log(arr))"
   ]
  },
  {
   "cell_type": "code",
   "execution_count": 3,
   "id": "d3d49c42",
   "metadata": {},
   "outputs": [
    {
     "name": "stdout",
     "output_type": "stream",
     "text": [
      "Vectorized: 0.000166s\n",
      "Loop: 0.002586s\n"
     ]
    }
   ],
   "source": [
    "import time\n",
    "\n",
    "start = time.time()\n",
    "result_vec = arr * 2 + 5\n",
    "end = time.time()\n",
    "print(f\"Vectorized: {end - start:.6f}s\")\n",
    "\n",
    "# 循环操作\n",
    "start = time.time()\n",
    "result_loop = [x * 2 + 5 for x in arr]\n",
    "end = time.time()\n",
    "print(f\"Loop: {end - start:.6f}s\")"
   ]
  },
  {
   "cell_type": "code",
   "execution_count": 11,
   "id": "3a34ef47",
   "metadata": {},
   "outputs": [
    {
     "name": "stdout",
     "output_type": "stream",
     "text": [
      "=== data preview ===\n",
      "<class 'pandas.core.frame.DataFrame'>\n",
      "RangeIndex: 6 entries, 0 to 5\n",
      "Data columns (total 4 columns):\n",
      " #   Column      Non-Null Count  Dtype  \n",
      "---  ------      --------------  -----  \n",
      " 0   Unnamed: 0  6 non-null      int64  \n",
      " 1   A           6 non-null      int64  \n",
      " 2   B           6 non-null      float64\n",
      " 3   C           6 non-null      int64  \n",
      "dtypes: float64(1), int64(3)\n",
      "memory usage: 320.0 bytes\n",
      "None\n",
      "\n",
      "=== first 5 cols ===\n",
      "   Unnamed: 0  A    B   C\n",
      "0           0  1  1.2  -4\n",
      "1           1  2  4.5   2\n",
      "2           2  2  4.2   4\n",
      "3           3  3 -1.0  25\n",
      "4           4  5  0.0   9\n"
     ]
    }
   ],
   "source": [
    "import pandas as pd\n",
    "starter_data = pd.DataFrame({'A':[1,2,2,3,5,3],'B':[1.2,4.5,4.2,-1,0,20],'C':[-4,2,4,25,9,3]})\n",
    "starter_data.to_csv(\"../data/starter_data.csv\")\n",
    "df = pd.read_csv('../data/starter_data.csv')\n",
    "\n",
    "print(\"=== data preview ===\")\n",
    "print(df.info())\n",
    "\n",
    "print(\"\\n=== first 5 cols ===\")\n",
    "print(df.head())"
   ]
  },
  {
   "cell_type": "code",
   "execution_count": 15,
   "id": "5daa830c",
   "metadata": {},
   "outputs": [
    {
     "name": "stdout",
     "output_type": "stream",
     "text": [
      "       Unnamed: 0         A          B          C\n",
      "count    6.000000  6.000000   6.000000   6.000000\n",
      "mean     2.500000  2.666667   4.816667   6.500000\n",
      "std      1.870829  1.366260   7.760520   9.974969\n",
      "min      0.000000  1.000000  -1.000000  -4.000000\n",
      "25%      1.250000  2.000000   0.300000   2.250000\n",
      "50%      2.500000  2.500000   2.700000   3.500000\n",
      "75%      3.750000  3.000000   4.425000   7.750000\n",
      "max      5.000000  5.000000  20.000000  25.000000\n",
      "   Unnamed: 0     B   C\n",
      "A                      \n",
      "1           0   1.2  -4\n",
      "2           3   8.7   6\n",
      "3           8  19.0  28\n",
      "5           4   0.0   9\n"
     ]
    }
   ],
   "source": [
    "\n",
    "numeric_summary = df.describe()\n",
    "print(numeric_summary)\n",
    "\n",
    "\n",
    "\n",
    "grouped = df.groupby('A').sum()\n",
    "print(grouped)"
   ]
  },
  {
   "cell_type": "code",
   "execution_count": 16,
   "id": "aee29c5b",
   "metadata": {},
   "outputs": [],
   "source": [
    "numeric_summary.to_csv('../data/processed/summary.csv')\n",
    "grouped.to_csv('../data/processed/grouped_summary.csv')\n"
   ]
  },
  {
   "cell_type": "code",
   "execution_count": 17,
   "id": "9cc62711",
   "metadata": {},
   "outputs": [
    {
     "name": "stdout",
     "output_type": "stream",
     "text": [
      "{'overall': {'Unnamed: 0': {'count': 6.0, 'mean': 2.5, 'std': 1.8708286933869707, 'min': 0.0, '25%': 1.25, '50%': 2.5, '75%': 3.75, 'max': 5.0}, 'A': {'count': 6.0, 'mean': 2.6666666666666665, 'std': 1.3662601021279464, 'min': 1.0, '25%': 2.0, '50%': 2.5, '75%': 3.0, 'max': 5.0}, 'B': {'count': 6.0, 'mean': 4.816666666666666, 'std': 7.760519742044773, 'min': -1.0, '25%': 0.3, '50%': 2.7, '75%': 4.425, 'max': 20.0}, 'C': {'count': 6.0, 'mean': 6.5, 'std': 9.974968671630002, 'min': -4.0, '25%': 2.25, '50%': 3.5, '75%': 7.75, 'max': 25.0}}}\n"
     ]
    }
   ],
   "source": [
    "def get_summary_stats(dataframe, group_col=None):\n",
    "\n",
    "    results = {}\n",
    "    \n",
    "    results['overall'] = dataframe.describe().to_dict()\n",
    "    \n",
    "    if group_col and group_col in dataframe.columns:\n",
    "        grouped = dataframe.groupby(group_col).agg(['mean', 'median', 'std'])\n",
    "        results['grouped'] = grouped.to_dict()\n",
    "    \n",
    "    return results\n",
    "\n",
    "\n",
    "stats = get_summary_stats(df, 'category')\n",
    "print(stats)"
   ]
  },
  {
   "cell_type": "code",
   "execution_count": null,
   "id": "ed994a80",
   "metadata": {},
   "outputs": [],
   "source": []
  }
 ],
 "metadata": {
  "kernelspec": {
   "display_name": "Python 3 (ipykernel)",
   "language": "python",
   "name": "python3"
  },
  "language_info": {
   "codemirror_mode": {
    "name": "ipython",
    "version": 3
   },
   "file_extension": ".py",
   "mimetype": "text/x-python",
   "name": "python",
   "nbconvert_exporter": "python",
   "pygments_lexer": "ipython3",
   "version": "3.10.15"
  },
  "toc": {
   "base_numbering": 1,
   "nav_menu": {},
   "number_sections": true,
   "sideBar": true,
   "skip_h1_title": false,
   "title_cell": "Table of Contents",
   "title_sidebar": "Contents",
   "toc_cell": false,
   "toc_position": {},
   "toc_section_display": true,
   "toc_window_display": false
  },
  "varInspector": {
   "cols": {
    "lenName": 16,
    "lenType": 16,
    "lenVar": 40
   },
   "kernels_config": {
    "python": {
     "delete_cmd_postfix": "",
     "delete_cmd_prefix": "del ",
     "library": "var_list.py",
     "varRefreshCmd": "print(var_dic_list())"
    },
    "r": {
     "delete_cmd_postfix": ") ",
     "delete_cmd_prefix": "rm(",
     "library": "var_list.r",
     "varRefreshCmd": "cat(var_dic_list()) "
    }
   },
   "types_to_exclude": [
    "module",
    "function",
    "builtin_function_or_method",
    "instance",
    "_Feature"
   ],
   "window_display": false
  }
 },
 "nbformat": 4,
 "nbformat_minor": 5
}
