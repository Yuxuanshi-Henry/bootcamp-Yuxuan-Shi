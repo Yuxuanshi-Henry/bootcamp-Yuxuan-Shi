{
 "cells": [
  {
   "cell_type": "code",
   "execution_count": 1,
   "id": "9dc801a3",
   "metadata": {},
   "outputs": [
    {
     "name": "stdout",
     "output_type": "stream",
     "text": [
      "square: [ 1  4  9 16 25]\n",
      "log: [0.         0.69314718 1.09861229 1.38629436 1.60943791]\n"
     ]
    }
   ],
   "source": [
    "import numpy as np\n",
    "\n",
    "arr = np.array([1, 2, 3, 4, 5])\n",
    "\n",
    "print(\"square:\", arr ** 2)\n",
    "print(\"log:\", np.log(arr))"
   ]
  },
  {
   "cell_type": "code",
   "execution_count": 2,
   "id": "d3d49c42",
   "metadata": {},
   "outputs": [
    {
     "name": "stdout",
     "output_type": "stream",
     "text": [
      "Vectorized: 0.000035s\n",
      "Loop: 0.000034s\n"
     ]
    }
   ],
   "source": [
    "import time\n",
    "\n",
    "start = time.time()\n",
    "result_vec = arr * 2 + 5\n",
    "end = time.time()\n",
    "print(f\"Vectorized: {end - start:.6f}s\")\n",
    "\n",
    "# 循环操作\n",
    "start = time.time()\n",
    "result_loop = [x * 2 + 5 for x in arr]\n",
    "end = time.time()\n",
    "print(f\"Loop: {end - start:.6f}s\")"
   ]
  },
  {
   "cell_type": "code",
   "execution_count": 3,
   "id": "3a34ef47",
   "metadata": {},
   "outputs": [
    {
     "name": "stdout",
     "output_type": "stream",
     "text": [
      "=== data preview ===\n",
      "<class 'pandas.core.frame.DataFrame'>\n",
      "Index: 10 entries, 2025-08-01 to 2025-08-10\n",
      "Data columns (total 2 columns):\n",
      " #   Column    Non-Null Count  Dtype \n",
      "---  ------    --------------  ----- \n",
      " 0   category  10 non-null     object\n",
      " 1   value     10 non-null     int64 \n",
      "dtypes: int64(1), object(1)\n",
      "memory usage: 240.0+ bytes\n",
      "None\n",
      "\n",
      "=== first 5 cols ===\n",
      "           category  value\n",
      "date                      \n",
      "2025-08-01        A     10\n",
      "2025-08-02        B     15\n",
      "2025-08-03        A     12\n",
      "2025-08-04        B     18\n",
      "2025-08-05        C     25\n"
     ]
    }
   ],
   "source": [
    "import pandas as pd\n",
    "df = pd.read_csv('../data/starter_data.csv', index_col='date')\n",
    "\n",
    "print(\"=== data preview ===\")\n",
    "print(df.info())\n",
    "\n",
    "print(\"\\n=== first 5 cols ===\")\n",
    "print(df.head())"
   ]
  },
  {
   "cell_type": "code",
   "execution_count": 4,
   "id": "5daa830c",
   "metadata": {},
   "outputs": [
    {
     "name": "stdout",
     "output_type": "stream",
     "text": [
      "           value\n",
      "count  10.000000\n",
      "mean   17.600000\n",
      "std     7.381659\n",
      "min    10.000000\n",
      "25%    12.250000\n",
      "50%    14.500000\n",
      "75%    23.250000\n",
      "max    30.000000\n",
      "          value\n",
      "category       \n",
      "A            46\n",
      "B            47\n",
      "C            83\n"
     ]
    }
   ],
   "source": [
    "\n",
    "numeric_summary = df.describe()\n",
    "print(numeric_summary)\n",
    "\n",
    "\n",
    "\n",
    "grouped = df.groupby('category').sum()\n",
    "print(grouped)"
   ]
  },
  {
   "cell_type": "code",
   "execution_count": 5,
   "id": "aee29c5b",
   "metadata": {},
   "outputs": [],
   "source": [
    "numeric_summary.to_csv('../data/processed/summary.csv')\n",
    "grouped.to_csv('../data/processed/grouped_summary.csv')\n"
   ]
  },
  {
   "cell_type": "code",
   "execution_count": 6,
   "id": "9cc62711",
   "metadata": {},
   "outputs": [
    {
     "name": "stdout",
     "output_type": "stream",
     "text": [
      "{'overall': {'value': {'count': 10.0, 'mean': 17.6, 'std': 7.381658952355418, 'min': 10.0, '25%': 12.25, '50%': 14.5, '75%': 23.25, 'max': 30.0}}, 'grouped': {('value', 'mean'): {'A': 11.5, 'B': 15.666666666666666, 'C': 27.666666666666668}, ('value', 'median'): {'A': 11.5, 'B': 15.0, 'C': 28.0}, ('value', 'std'): {'A': 1.2909944487358056, 'B': 2.0816659994661326, 'C': 2.516611478423583}}}\n"
     ]
    }
   ],
   "source": [
    "def get_summary_stats(dataframe, group_col=None):\n",
    "\n",
    "    results = {}\n",
    "    \n",
    "    results['overall'] = dataframe.describe().to_dict()\n",
    "    \n",
    "    if group_col and group_col in dataframe.columns:\n",
    "        grouped = dataframe.groupby(group_col).agg(['mean', 'median', 'std'])\n",
    "        results['grouped'] = grouped.to_dict()\n",
    "    \n",
    "    return results\n",
    "\n",
    "\n",
    "stats = get_summary_stats(df, 'category')\n",
    "print(stats)"
   ]
  },
  {
   "cell_type": "code",
   "execution_count": null,
   "id": "ed994a80",
   "metadata": {},
   "outputs": [],
   "source": []
  }
 ],
 "metadata": {
  "kernelspec": {
   "display_name": "Python 3 (ipykernel)",
   "language": "python",
   "name": "python3"
  },
  "language_info": {
   "codemirror_mode": {
    "name": "ipython",
    "version": 3
   },
   "file_extension": ".py",
   "mimetype": "text/x-python",
   "name": "python",
   "nbconvert_exporter": "python",
   "pygments_lexer": "ipython3",
   "version": "3.10.15"
  },
  "toc": {
   "base_numbering": 1,
   "nav_menu": {},
   "number_sections": true,
   "sideBar": true,
   "skip_h1_title": false,
   "title_cell": "Table of Contents",
   "title_sidebar": "Contents",
   "toc_cell": false,
   "toc_position": {},
   "toc_section_display": true,
   "toc_window_display": false
  },
  "varInspector": {
   "cols": {
    "lenName": 16,
    "lenType": 16,
    "lenVar": 40
   },
   "kernels_config": {
    "python": {
     "delete_cmd_postfix": "",
     "delete_cmd_prefix": "del ",
     "library": "var_list.py",
     "varRefreshCmd": "print(var_dic_list())"
    },
    "r": {
     "delete_cmd_postfix": ") ",
     "delete_cmd_prefix": "rm(",
     "library": "var_list.r",
     "varRefreshCmd": "cat(var_dic_list()) "
    }
   },
   "types_to_exclude": [
    "module",
    "function",
    "builtin_function_or_method",
    "instance",
    "_Feature"
   ],
   "window_display": false
  }
 },
 "nbformat": 4,
 "nbformat_minor": 5
}
