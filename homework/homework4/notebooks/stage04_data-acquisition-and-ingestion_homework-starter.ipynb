{
 "cells": [
  {
   "cell_type": "markdown",
   "id": "ffd3ddff",
   "metadata": {},
   "source": [
    "# Stage04"
   ]
  },
  {
   "cell_type": "code",
   "execution_count": 8,
   "id": "b2dc3466",
   "metadata": {},
   "outputs": [
    {
     "name": "stdout",
     "output_type": "stream",
     "text": [
      "ALPHAVANTAGE_API_KEY Loaded: True\n"
     ]
    }
   ],
   "source": [
    "import os, pathlib, requests\n",
    "import datetime as dt\n",
    "import pandas as pd\n",
    "from dotenv import load_dotenv\n",
    "from bs4 import BeautifulSoup as bs\n",
    "load_dotenv()\n",
    "key = os.getenv(\"ALPHAVANTAGE_API_KEY\")\n",
    "print(\"ALPHAVANTAGE_API_KEY Loaded:\", key is not None)\n",
    "RAW = pathlib.Path('../data/raw')"
   ]
  },
  {
   "cell_type": "code",
   "execution_count": 9,
   "id": "97de5e60",
   "metadata": {},
   "outputs": [],
   "source": [
    "def ts():\n",
    "    return dt.datetime.now().strftime('%Y%m%d-%H%M%S')\n",
    "\n",
    "def save_csv(df: pd.DataFrame, prefix: str, **meta):\n",
    "    mid = '_'.join([f\"{k}-{v}\" for k,v in meta.items()])\n",
    "    path = RAW / f\"{prefix}_{mid}_{ts()}.csv\"\n",
    "    df.to_csv(path, index=False)\n",
    "    print('Saved', path)\n",
    "    return path\n",
    "\n",
    "def validate(df: pd.DataFrame, required):\n",
    "    missing = [c for c in required if c not in df.columns]\n",
    "    return {'missing': missing, 'shape': df.shape, 'na_total': int(df.isna().sum().sum())}"
   ]
  },
  {
   "cell_type": "markdown",
   "id": "70e94fdc",
   "metadata": {},
   "source": [
    "## step 1 API Pull"
   ]
  },
  {
   "cell_type": "code",
   "execution_count": 16,
   "id": "c77ebfc3",
   "metadata": {},
   "outputs": [
    {
     "data": {
      "text/plain": [
       "{'missing': [], 'shape': (100, 2), 'na_total': 0}"
      ]
     },
     "execution_count": 16,
     "metadata": {},
     "output_type": "execute_result"
    }
   ],
   "source": [
    "SYMBOL = \"META\"\n",
    "use_alpha = key is not None\n",
    "if use_alpha:\n",
    "    url = 'https://www.alphavantage.co/query'\n",
    "    params = {\n",
    "        'function': 'TIME_SERIES_DAILY',\n",
    "        'symbol': SYMBOL,\n",
    "        'outputsize': 'compact',\n",
    "        'apikey': key\n",
    "    }\n",
    "    r = requests.get(url, params=params, timeout=30)\n",
    "    r.raise_for_status()\n",
    "    js = r.json()\n",
    "    key = [k for k in js.keys() if \"Time Series\" in k][0]\n",
    "    assert key, f\"Unexpected response keys: {list(js.keys())}\"\n",
    "    df_api = pd.DataFrame(js[key]).T.reset_index().rename(columns={\n",
    "        'index': 'date',\n",
    "        '4. close':'close'})[['date', 'close']]\n",
    "    df_api['date'] = pd.to_datetime(df_api['date'])\n",
    "    df_api['close'] = pd.to_numeric(df_api['close'])\n",
    "else:\n",
    "    import yfinance as yf\n",
    "    df_api = yf.download(SYMBOL, period='6mo', interval='1d')[['Close']].reset_index()\n",
    "    df_api.rename(columns={'Date': 'date', 'Close': 'close'}, inplace=True)\n",
    "\n",
    "validate(df_api, ['date', 'close'])"
   ]
  },
  {
   "cell_type": "markdown",
   "id": "b9c7b67b",
   "metadata": {},
   "source": [
    "## Step 2 Scrape a small table"
   ]
  },
  {
   "cell_type": "code",
   "execution_count": null,
   "id": "9f78162c",
   "metadata": {},
   "outputs": [
    {
     "data": {
      "text/plain": [
       "{'missing': [], 'shape': (50, 2), 'na_total': 0}"
      ]
     },
     "execution_count": 34,
     "metadata": {},
     "output_type": "execute_result"
    }
   ],
   "source": [
    "scrape_url = 'https://en.wikipedia.org/wiki/SSE_50_Index'\n",
    "headers = {'User-Agent':'AFE-Homework/1.0'}\n",
    "try:\n",
    "    resp = requests.get(scrape_url, headers=headers, timeout=30); resp.raise_for_status()\n",
    "    soup = bs(resp.text, 'html.parser')\n",
    "    soup = soup.find('table', {'id': 'constituents'}) # scrape a specific table\n",
    "    rows = [[c.get_text(strip=True) for c in tr.find_all(['th','td'])] for tr in soup.find_all('tr')]\n",
    "    header, *data = [r for r in rows if r]\n",
    "    df_scrape = pd.DataFrame(data, columns=header)\n",
    "except Exception as e:\n",
    "    print('Scrape failed, using inline demo table:', e)\n",
    "    html = '<table><tr><th>Ticker</th><th>Price</th></tr><tr><td>AAA</td><td>101.2</td></tr></table>'\n",
    "    soup = bs(html, 'html.parser')\n",
    "    rows = [[c.get_text(strip=True) for c in tr.find_all(['th','td'])] for tr in soup.find_all('tr')]\n",
    "    header, *data = [r for r in rows if r]\n",
    "    df_scrape = pd.DataFrame(data, columns=header)\n",
    "\n",
    "if 'Price' in df_scrape.columns:\n",
    "    df_scrape['Price'] = pd.to_numeric(df_scrape['Price'], errors='coerce')\n",
    "v_scrape = validate(df_scrape, list(df_scrape.columns)); v_scrape"
   ]
  },
  {
   "cell_type": "code",
   "execution_count": 36,
   "id": "cc8e43f0",
   "metadata": {},
   "outputs": [
    {
     "name": "stdout",
     "output_type": "stream",
     "text": [
      "Saved ../data/raw/api_source-alphavantage_symbol-META_20250818-002545.csv\n"
     ]
    },
    {
     "data": {
      "text/plain": [
       "PosixPath('../data/raw/api_source-alphavantage_symbol-META_20250818-002545.csv')"
      ]
     },
     "execution_count": 36,
     "metadata": {},
     "output_type": "execute_result"
    }
   ],
   "source": [
    "save_csv(df_api,'api', source='alphavantage' if use_alpha else 'yfinance', symbol=SYMBOL)"
   ]
  },
  {
   "cell_type": "code",
   "execution_count": 37,
   "id": "d5c92881",
   "metadata": {},
   "outputs": [
    {
     "name": "stdout",
     "output_type": "stream",
     "text": [
      "Saved ../data/raw/scrape_site-wikipedia_20250818-002723.csv\n"
     ]
    },
    {
     "data": {
      "text/plain": [
       "PosixPath('../data/raw/scrape_site-wikipedia_20250818-002723.csv')"
      ]
     },
     "execution_count": 37,
     "metadata": {},
     "output_type": "execute_result"
    }
   ],
   "source": [
    "save_csv(df_scrape, 'scrape', site='wikipedia')"
   ]
  },
  {
   "cell_type": "markdown",
   "id": "e037f1d2",
   "metadata": {},
   "source": [
    "Assumptions & risks:\n",
    "* API key exposure risk\n",
    "* Anti-scraping risk\n",
    "* Network reliability"
   ]
  }
 ],
 "metadata": {
  "kernelspec": {
   "display_name": "bootcamp_env",
   "language": "python",
   "name": "python3"
  },
  "language_info": {
   "codemirror_mode": {
    "name": "ipython",
    "version": 3
   },
   "file_extension": ".py",
   "mimetype": "text/x-python",
   "name": "python",
   "nbconvert_exporter": "python",
   "pygments_lexer": "ipython3",
   "version": "3.10.18"
  }
 },
 "nbformat": 4,
 "nbformat_minor": 5
}
