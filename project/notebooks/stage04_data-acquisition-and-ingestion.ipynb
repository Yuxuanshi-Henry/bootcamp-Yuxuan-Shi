{
 "cells": [
  {
   "cell_type": "markdown",
   "id": "0beed63c",
   "metadata": {},
   "source": [
    "# Data Acquisition & Ingestion\n",
    "\n",
    "Data: Germen Credit Data\\\n",
    "Url: https://archive.ics.uci.edu/static/public/144/data.csv"
   ]
  },
  {
   "cell_type": "code",
   "execution_count": null,
   "id": "4683635f",
   "metadata": {},
   "outputs": [],
   "source": [
    "from ucimlrepo import fetch_ucirepo \n",
    "  \n",
    "# German Credit Data\n",
    "statlog_german_credit_data = fetch_ucirepo(id=144)\n",
    "  \n",
    "# data (as pandas dataframes) \n",
    "X = statlog_german_credit_data.data.features \n",
    "y = statlog_german_credit_data.data.targets "
   ]
  },
  {
   "cell_type": "code",
   "execution_count": 10,
   "id": "83bb3b0c",
   "metadata": {},
   "outputs": [
    {
     "data": {
      "text/plain": [
       "dict_keys(['data', 'metadata', 'variables'])"
      ]
     },
     "execution_count": 10,
     "metadata": {},
     "output_type": "execute_result"
    }
   ],
   "source": [
    "statlog_german_credit_data.keys()"
   ]
  },
  {
   "cell_type": "code",
   "execution_count": null,
   "id": "1a5c6184",
   "metadata": {},
   "outputs": [],
   "source": [
    "import json\n",
    "metadata = statlog_german_credit_data['metadata']\n",
    "with open(\"../data/metadata.json\", \"w\", encoding=\"utf-8\") as f:\n",
    "    json.dump(metadata, f, indent=4, ensure_ascii=False)\n"
   ]
  },
  {
   "cell_type": "code",
   "execution_count": null,
   "id": "8bb2202c",
   "metadata": {},
   "outputs": [],
   "source": [
    "variable_info = statlog_german_credit_data['metadata']['additional_info']['variable_info']\n",
    "with open('../data/variable_info.txt','w', encoding='utf-8') as f:\n",
    "    f.write(variable_info)\n"
   ]
  },
  {
   "cell_type": "code",
   "execution_count": 22,
   "id": "98962f4e",
   "metadata": {},
   "outputs": [],
   "source": [
    "variables = statlog_german_credit_data['variables']\n",
    "variables.to_csv('../data/variables.csv', index=False)"
   ]
  },
  {
   "cell_type": "code",
   "execution_count": 26,
   "id": "6c4ff3d8",
   "metadata": {},
   "outputs": [
    {
     "data": {
      "text/plain": [
       "dict_keys(['ids', 'features', 'targets', 'original', 'headers'])"
      ]
     },
     "execution_count": 26,
     "metadata": {},
     "output_type": "execute_result"
    }
   ],
   "source": [
    "statlog_german_credit_data.data.keys()"
   ]
  },
  {
   "cell_type": "code",
   "execution_count": null,
   "id": "fef5655a",
   "metadata": {},
   "outputs": [
    {
     "ename": "",
     "evalue": "",
     "output_type": "error",
     "traceback": [
      "\u001b[1;31m在当前单元格或上一个单元格中执行代码时 Kernel 崩溃。\n",
      "\u001b[1;31m请查看单元格中的代码，以确定故障的可能原因。\n",
      "\u001b[1;31m单击<a href='https://aka.ms/vscodeJupyterKernelCrash'>此处</a>了解详细信息。\n",
      "\u001b[1;31m有关更多详细信息，请查看 Jupyter <a href='command:jupyter.viewOutput'>log</a>。"
     ]
    }
   ],
   "source": [
    "statlog_german_credit_data.data.features.to_csv(\"../data/raw/features.csv\", index=False)\n",
    "statlog_german_credit_data.data.targets.to_csv(\"../data/raw/targets.csv\", index=False)\n",
    "statlog_german_credit_data.data.original.to_csv(\"../data/raw/original.csv\", index=False)"
   ]
  },
  {
   "cell_type": "markdown",
   "id": "eb46bffd",
   "metadata": {},
   "source": [
    "# Check Data Validation"
   ]
  },
  {
   "cell_type": "code",
   "execution_count": 40,
   "id": "b06875bc",
   "metadata": {},
   "outputs": [
    {
     "name": "stdout",
     "output_type": "stream",
     "text": [
      "{'na_total': 'Total NA values: 0'}\n"
     ]
    }
   ],
   "source": [
    "import sys\n",
    "sys.path.append('../src')\n",
    "from utils import validate_df\n",
    "original = statlog_german_credit_data.data.original\n",
    "msgs = validate_df(original, required_cols=list(original.columns), dtypes_map={})\n",
    "print(msgs)"
   ]
  },
  {
   "cell_type": "code",
   "execution_count": null,
   "id": "4006b145",
   "metadata": {},
   "outputs": [],
   "source": []
  }
 ],
 "metadata": {
  "kernelspec": {
   "display_name": "bootcamp_env",
   "language": "python",
   "name": "python3"
  },
  "language_info": {
   "codemirror_mode": {
    "name": "ipython",
    "version": 3
   },
   "file_extension": ".py",
   "mimetype": "text/x-python",
   "name": "python",
   "nbconvert_exporter": "python",
   "pygments_lexer": "ipython3",
   "version": "3.10.18"
  }
 },
 "nbformat": 4,
 "nbformat_minor": 5
}
