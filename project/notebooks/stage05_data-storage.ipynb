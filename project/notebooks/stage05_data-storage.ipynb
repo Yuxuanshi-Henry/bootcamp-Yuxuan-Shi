{
 "cells": [
  {
   "cell_type": "markdown",
   "id": "5de13297",
   "metadata": {},
   "source": [
    "# Already Stored in Stage 04"
   ]
  }
 ],
 "metadata": {
  "kernelspec": {
   "display_name": "bootcamp_env",
   "language": "python",
   "name": "python3"
  },
  "language_info": {
   "codemirror_mode": {
    "name": "ipython",
    "version": 3
   },
   "file_extension": ".py",
   "mimetype": "text/x-python",
   "name": "python",
   "nbconvert_exporter": "python",
   "pygments_lexer": "ipython3",
   "version": "3.10.18"
  }
 },
 "nbformat": 4,
 "nbformat_minor": 5
}
