{
 "cells": [
  {
   "cell_type": "markdown",
   "id": "42b3fc04",
   "metadata": {},
   "source": [
    "# 1. Verify Interpreter"
   ]
  },
  {
   "cell_type": "code",
   "execution_count": 5,
   "id": "ba920612",
   "metadata": {},
   "outputs": [
    {
     "name": "stdout",
     "output_type": "stream",
     "text": [
      "Python version: 3.10.18 (main, Jun  5 2025, 08:37:47) [Clang 14.0.6 ]\n",
      "Interpreter path: /opt/anaconda3/envs/bootcamp_env/bin/python\n"
     ]
    }
   ],
   "source": [
    "import sys, os\n",
    "print(\"Python version:\", sys.version)\n",
    "print(\"Interpreter path:\", sys.executable)"
   ]
  },
  {
   "cell_type": "markdown",
   "id": "e1402f82",
   "metadata": {},
   "source": [
    "# 2. Import Check"
   ]
  },
  {
   "cell_type": "code",
   "execution_count": 6,
   "id": "ec648976",
   "metadata": {},
   "outputs": [
    {
     "name": "stdout",
     "output_type": "stream",
     "text": [
      "Imports OK\n"
     ]
    }
   ],
   "source": [
    "try:\n",
    "    import numpy as np\n",
    "    from dotenv import load_dotenv\n",
    "    print(\"Imports OK\")\n",
    "except Exception as e:\n",
    "    print(\"Import error:\", e)\n",
    "    raise"
   ]
  },
  {
   "cell_type": "markdown",
   "id": "dd0313ef",
   "metadata": {},
   "source": [
    "# 3. Load `.env`"
   ]
  },
  {
   "cell_type": "code",
   "execution_count": 7,
   "id": "0505f019",
   "metadata": {},
   "outputs": [
    {
     "name": "stdout",
     "output_type": "stream",
     "text": [
      ".env loaded\n"
     ]
    }
   ],
   "source": [
    "from pathlib import Path\n",
    "load_dotenv()\n",
    "print(\".env loaded\")"
   ]
  },
  {
   "cell_type": "markdown",
   "id": "8d5a6252",
   "metadata": {},
   "source": [
    "# 4. DATA DIR"
   ]
  },
  {
   "cell_type": "code",
   "execution_count": null,
   "id": "81f1a2a5",
   "metadata": {},
   "outputs": [
    {
     "name": "stdout",
     "output_type": "stream",
     "text": [
      "Data dir in env: ./data\n"
     ]
    },
    {
     "ename": "",
     "evalue": "",
     "output_type": "error",
     "traceback": [
      "\u001b[1;31m在当前单元格或上一个单元格中执行代码时 Kernel 崩溃。\n",
      "\u001b[1;31m请查看单元格中的代码，以确定故障的可能原因。\n",
      "\u001b[1;31m单击<a href='https://aka.ms/vscodeJupyterKernelCrash'>此处</a>了解详细信息。\n",
      "\u001b[1;31m有关更多详细信息，请查看 Jupyter <a href='command:jupyter.viewOutput'>log</a>。"
     ]
    }
   ],
   "source": [
    "sys.path.append('..')\n",
    "from src.config import get_key\n",
    "data_dir_env = get_key(\"DATA_DIR\")\n",
    "print('Data dir in env:', data_dir_env)"
   ]
  },
  {
   "cell_type": "code",
   "execution_count": null,
   "id": "6ccef478",
   "metadata": {},
   "outputs": [],
   "source": []
  }
 ],
 "metadata": {
  "kernelspec": {
   "display_name": "bootcamp_env",
   "language": "python",
   "name": "python3"
  },
  "language_info": {
   "codemirror_mode": {
    "name": "ipython",
    "version": 3
   },
   "file_extension": ".py",
   "mimetype": "text/x-python",
   "name": "python",
   "nbconvert_exporter": "python",
   "pygments_lexer": "ipython3",
   "version": "3.10.18"
  }
 },
 "nbformat": 4,
 "nbformat_minor": 5
}
