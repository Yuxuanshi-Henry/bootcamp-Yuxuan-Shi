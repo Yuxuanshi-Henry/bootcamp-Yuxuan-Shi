{
 "cells": [
  {
   "cell_type": "markdown",
   "id": "f8d44653",
   "metadata": {},
   "source": [
    "problem has been framed and all put in README.md"
   ]
  },
  {
   "cell_type": "markdown",
   "id": "805a8534",
   "metadata": {},
   "source": []
  }
 ],
 "metadata": {
  "language_info": {
   "name": "python"
  }
 },
 "nbformat": 4,
 "nbformat_minor": 5
}
